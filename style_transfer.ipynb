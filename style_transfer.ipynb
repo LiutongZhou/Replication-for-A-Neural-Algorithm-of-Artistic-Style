{
 "cells": [
  {
   "cell_type": "code",
   "execution_count": 3,
   "metadata": {},
   "outputs": [],
   "source": [
    "import os\n",
    "import numpy as np\n",
    "import tensorflow as tf\n",
    "from PIL import Image, ImageOps\n",
    "import numpy as np\n",
    "import scipy.misc\n",
    "from six.moves import urllib\n",
    "from styletransfer import Model, image_process\n",
    "import matplotlib.pyplot as plt\n",
    "%matplotlib inline  "
   ]
  },
  {
   "cell_type": "markdown",
   "metadata": {
    "collapsed": true
   },
   "source": [
    "Download VGG19"
   ]
  },
  {
   "cell_type": "code",
   "execution_count": 5,
   "metadata": {},
   "outputs": [
    {
     "name": "stdout",
     "output_type": "stream",
     "text": [
      "VGG-19 pre-trained model ready\n"
     ]
    }
   ],
   "source": [
    "VGG_MODEL = 'imagenet-vgg-verydeep-19.mat' \n",
    "link = 'http://www.vlfeat.org/matconvnet/models/imagenet-vgg-verydeep-19.mat'\n",
    "if os.path.exists(VGG_MODEL):\n",
    "    print(\"VGG-19 pre-trained model ready\")\n",
    "else:\n",
    "    print(\"Downloading the VGG pre-trained model. This might take a while ...\")\n",
    "    file_name, _ = urllib.request.urlretrieve(link, VGG_MODEL)\n",
    "    print('Successfully downloaded VGG-19 pre-trained model', VGG_MODEL)"
   ]
  },
  {
   "cell_type": "code",
   "execution_count": 3,
   "metadata": {
    "collapsed": true
   },
   "outputs": [],
   "source": [
    "style_layers_choices = {1: ['conv1_1'],\n",
    "                2: ['conv1_1', 'conv2_1'],\n",
    "                3: ['conv1_1', 'conv2_1', 'conv3_1'],\n",
    "                4: ['conv1_1', 'conv2_1', 'conv3_1', 'conv4_1'],\n",
    "                5: ['conv1_1', 'conv2_1', 'conv3_1', 'conv4_1', 'conv5_1']}\n",
    "# give more weights to deeper layers.\n",
    "W = [0.5, 1.0, 1.5, 3.0, 4.0]\n",
    "\n",
    "content_layer = 'conv4_2'\n",
    "style_layers = style_layers_choices[5]\n",
    "\n",
    "# From paper \"Very Deep Convolutional Networks for Large-Scale Image Recognition\" \n",
    "# The input images should be zero-centered by mean pixel (rather than mean image) subtraction.\n",
    "mean_pixels = np.array([123.68, 116.779, 103.939]).reshape((1,1,1,3)) "
   ]
  },
  {
   "cell_type": "code",
   "execution_count": 4,
   "metadata": {
    "collapsed": true
   },
   "outputs": [],
   "source": [
    "def gram_matrix(F, N, M):\n",
    "    \"\"\"\n",
    "    Return the gram matrix for tensor F\n",
    "    \"\"\"\n",
    "    F = tf.reshape(F, (M, N))\n",
    "    return tf.matmul(tf.transpose(F), F)\n",
    "\n",
    "def single_style_loss(a, g):\n",
    "    \"\"\"\n",
    "    Calculate the style loss at a certain layer\n",
    "    \"\"\"\n",
    "    N = a.shape[3]\n",
    "    M = a.shape[1] * a.shape[2] \n",
    "    A = gram_matrix(a, N, M)\n",
    "    G = gram_matrix(g, N, M)\n",
    "    return tf.reduce_sum((G - A) ** 2 / ((2 * N * M) ** 2))\n",
    "\n",
    "def total_style_loss(A, model):\n",
    "    \"\"\"\n",
    "    Calculate total style loss\n",
    "    \"\"\"\n",
    "    n_layers = len(style_layers)\n",
    "    E = [single_style_loss(A[i], model[style_layers[i]]) for i in range(n_layers)]\n",
    "    return sum([W[i] * E[i] for i in range(n_layers)])\n",
    "\n",
    "def make_dir(path):\n",
    "    \"\"\"\n",
    "    Create a directory\n",
    "    \"\"\"\n",
    "    try:\n",
    "        os.mkdir(path)\n",
    "    except OSError:\n",
    "        pass"
   ]
  },
  {
   "cell_type": "code",
   "execution_count": 5,
   "metadata": {
    "collapsed": true
   },
   "outputs": [],
   "source": [
    "def losses(model, input_image, content_image, style_image, alpha, beta):\n",
    "    \"\"\"\n",
    "    Create the total loss\n",
    "    \"\"\"\n",
    "    with tf.variable_scope('loss') as scope:\n",
    "        with tf.Session() as sess:\n",
    "            sess.run(input_image.assign(content_image)) # assign content image to the input variable\n",
    "            p = sess.run(model[content_layer])\n",
    "            f = model[content_layer]\n",
    "        content_loss = tf.reduce_sum((f - p) ** 2) / (4.0 * p.size)\n",
    "\n",
    "        with tf.Session() as sess:\n",
    "            sess.run(input_image.assign(style_image))\n",
    "            A = sess.run([model[layer_name] for layer_name in style_layers])                              \n",
    "        style_loss = total_style_loss(A, model)\n",
    "    \n",
    "        total_loss = alpha * content_loss + beta * style_loss\n",
    "        \n",
    "    return content_loss, style_loss, total_loss"
   ]
  },
  {
   "cell_type": "code",
   "execution_count": 10,
   "metadata": {
    "collapsed": true
   },
   "outputs": [],
   "source": [
    "def train(model, generated_image, initial_image, iter_num, name):\n",
    "    loss = []\n",
    "    with tf.Session() as sess:\n",
    "        sess.run(tf.global_variables_initializer())\n",
    "        sess.run(generated_image.assign(initial_image))\n",
    "        initial_step = model['global_step'].eval()\n",
    "        \n",
    "        for i in range(initial_step, iter_num):\n",
    "            sess.run(model['optimizer'])\n",
    "            if (i + 1) % 100 == 0:\n",
    "                gen_image, total_loss= sess.run([generated_image, model['total_loss']])\n",
    "                gen_image = gen_image + mean_pixels\n",
    "                \n",
    "                print('Iter: {}  Loss: {:5.1f}'.format(i + 1, total_loss))\n",
    "                loss.append(total_loss)\n",
    "\n",
    "                if (i + 1) % 200 == 0:\n",
    "                    filename = 'outputs/{}_{}.png'.format(name, i+1)\n",
    "                    image_process.save_image(filename, gen_image)\n",
    "\n",
    "    x = [100 * i for i in range(iter_num // 100)] \n",
    "    plt.plot(x, loss)\n",
    "    plt.ylabel('Loss')\n",
    "    plt.xlabel('Iterations')\n",
    "    plt.show()"
   ]
  },
  {
   "cell_type": "code",
   "execution_count": 11,
   "metadata": {
    "collapsed": true
   },
   "outputs": [],
   "source": [
    "def train_model(content_name, style_name, alpha = 0.01, beta = 1, iter_num = 3000, \n",
    "                height= 250, width = 333, noise = 0.6, learning_rate = 2.0):\n",
    "    STYLE_image = 'styles/' + style_name + '.jpg'\n",
    "    CONTENT_image = 'content/' + content_name + '.jpg'\n",
    "    with tf.variable_scope('input') as scope:\n",
    "            input_image = tf.Variable(np.zeros([1, height, width, 3]), dtype=tf.float32)\n",
    "\n",
    "    # make_dir('checkpoints')   \n",
    "    make_dir('outputs')\n",
    "    model = Model.build_vgg(VGG_MODEL, input_image)\n",
    "    model['global_step'] = tf.Variable(0, dtype=tf.int32, trainable=False, name='global_step')\n",
    "\n",
    "    content_image = image_process.get_resized_image(CONTENT_image, height, width)\n",
    "    content_image = content_image - mean_pixels\n",
    "    style_image = image_process.get_resized_image(STYLE_image, height, width)\n",
    "    style_image = style_image - mean_pixels\n",
    "\n",
    "    model['content_loss'], model['style_loss'], model['total_loss'] = losses(model, \n",
    "                                                    input_image, content_image, style_image, alpha, beta)\n",
    "\n",
    "    model['optimizer'] = tf.train.AdamOptimizer(learning_rate).minimize(model['total_loss'], \n",
    "                                                            global_step=model['global_step'])\n",
    "\n",
    "    initial_image = image_process.generate_noise_image(content_image, height, width, noise)\n",
    "    name = content_name + '_' + style_name\n",
    "    train(model, input_image, initial_image, iter_num, name)"
   ]
  },
  {
   "cell_type": "code",
   "execution_count": 9,
   "metadata": {},
   "outputs": [
    {
     "name": "stdout",
     "output_type": "stream",
     "text": [
      "Iter: 100\n",
      "   Loss: 89561960.0\n",
      "Iter: 200\n",
      "   Loss: 39824108.0\n",
      "Iter: 300\n",
      "   Loss: 24379996.0\n",
      "Iter: 400\n",
      "   Loss: 17315404.0\n",
      "Iter: 500\n",
      "   Loss: 13270545.0\n",
      "Iter: 600\n",
      "   Loss: 10559899.0\n",
      "Iter: 700\n",
      "   Loss: 8951296.0\n",
      "Iter: 800\n",
      "   Loss: 8327781.0\n",
      "Iter: 900\n",
      "   Loss: 7116039.5\n",
      "Iter: 1000\n",
      "   Loss: 6255075.5\n",
      "Iter: 1100\n",
      "   Loss: 5705067.5\n",
      "Iter: 1200\n",
      "   Loss: 5303728.0\n",
      "Iter: 1300\n",
      "   Loss: 4946403.5\n",
      "Iter: 1400\n",
      "   Loss: 4622786.0\n",
      "Iter: 1500\n",
      "   Loss: 4374765.5\n",
      "Iter: 1600\n",
      "   Loss: 4167534.8\n",
      "Iter: 1700\n",
      "   Loss: 3948766.0\n",
      "Iter: 1800\n",
      "   Loss: 6256628.5\n",
      "Iter: 1900\n",
      "   Loss: 3768133.0\n",
      "Iter: 2000\n",
      "   Loss: 3528622.8\n",
      "Iter: 2100\n",
      "   Loss: 3392268.8\n",
      "Iter: 2200\n",
      "   Loss: 3267784.0\n",
      "Iter: 2300\n",
      "   Loss: 3230348.0\n",
      "Iter: 2400\n",
      "   Loss: 3581844.2\n",
      "Iter: 2500\n",
      "   Loss: 3042142.2\n",
      "Iter: 2600\n",
      "   Loss: 3149068.5\n",
      "Iter: 2700\n",
      "   Loss: 2849835.0\n",
      "Iter: 2800\n",
      "   Loss: 2790297.0\n",
      "Iter: 2900\n",
      "   Loss: 2955832.5\n",
      "Iter: 3000\n",
      "   Loss: 2789020.8\n"
     ]
    },
    {
     "data": {
      "image/png": "[encoded data removed]",
      "text/plain": [
       "<matplotlib.figure.Figure at 0x7fb57fb09860>"
      ]
     },
     "metadata": {},
     "output_type": "display_data"
    }
   ],
   "source": [
    "style_name = ['guernica']\n",
    "content_name = ['deadpool']\n",
    "\n",
    "for s_name in style_name:\n",
    "    for c_name in content_name:\n",
    "        train_model(c_name, s_name)\n"
   ]
  },
  {
   "cell_type": "code",
   "execution_count": null,
   "metadata": {
    "collapsed": true
   },
   "outputs": [],
   "source": []
  }
 ],
 "metadata": {
  "kernelspec": {
   "display_name": "Python 3",
   "language": "python",
   "name": "python3"
  },
  "language_info": {
   "codemirror_mode": {
    "name": "ipython",
    "version": 3
   },
   "file_extension": ".py",
   "mimetype": "text/x-python",
   "name": "python",
   "nbconvert_exporter": "python",
   "pygments_lexer": "ipython3",
   "version": "3.6.3"
  }
 },
 "nbformat": 4,
 "nbformat_minor": 2
}
